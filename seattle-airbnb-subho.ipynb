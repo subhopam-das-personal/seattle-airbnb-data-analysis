{
 "cells": [
  {
   "cell_type": "code",
   "execution_count": 7,
   "id": "0712f656",
   "metadata": {
    "_cell_guid": "b1076dfc-b9ad-4769-8c92-a6c4dae69d19",
    "_uuid": "8f2839f25d086af736a60e9eeb907d3b93b6e0e5",
    "execution": {
     "iopub.execute_input": "2024-04-15T11:54:15.868750Z",
     "iopub.status.busy": "2024-04-15T11:54:15.867994Z",
     "iopub.status.idle": "2024-04-15T11:54:17.012730Z",
     "shell.execute_reply": "2024-04-15T11:54:17.011471Z"
    },
    "papermill": {
     "duration": 1.157456,
     "end_time": "2024-04-15T11:54:17.015455",
     "exception": false,
     "start_time": "2024-04-15T11:54:15.857999",
     "status": "completed"
    },
    "tags": []
   },
   "outputs": [],
   "source": [
    "# This Python 3 environment comes with many helpful analytics libraries installed\n",
    "# It is defined by the kaggle/python Docker image: https://github.com/kaggle/docker-python\n",
    "# For example, here's several helpful packages to load\n",
    "\n",
    "import numpy as np # linear algebra\n",
    "import pandas as pd # data processing, CSV file I/O (e.g. pd.read_csv)\n",
    "\n",
    "# Input data files are available in the read-only \"../input/\" directory\n",
    "# For example, running this (by clicking run or pressing Shift+Enter) will list all files under the input directory\n",
    "\n",
    "import os\n",
    "for dirname, _, filenames in os.walk('/kaggle/input'):\n",
    "    for filename in filenames:\n",
    "        print(os.path.join(dirname, filename))\n",
    "\n",
    "# You can write up to 20GB to the current directory (/kaggle/working/) that gets preserved as output when you create a version using \"Save & Run All\" \n",
    "# You can also write temporary files to /kaggle/temp/, but they won't be saved outside of the current session"
   ]
  },
  {
   "cell_type": "code",
   "execution_count": 8,
   "id": "5789f444",
   "metadata": {
    "execution": {
     "iopub.execute_input": "2024-04-15T11:54:17.034539Z",
     "iopub.status.busy": "2024-04-15T11:54:17.034000Z",
     "iopub.status.idle": "2024-04-15T11:54:19.715730Z",
     "shell.execute_reply": "2024-04-15T11:54:19.714437Z"
    },
    "papermill": {
     "duration": 2.69517,
     "end_time": "2024-04-15T11:54:19.719180",
     "exception": false,
     "start_time": "2024-04-15T11:54:17.024010",
     "status": "completed"
    },
    "tags": []
   },
   "outputs": [],
   "source": [
    "#Imports\n",
    "\n",
    "#Import linear algebra and data manipulation\n",
    "import numpy as np\n",
    "import pandas as pd\n",
    "\n",
    "#Import plotting packages\n",
    "import matplotlib.pyplot as plt\n",
    "%matplotlib inline\n",
    "import seaborn as sns\n",
    "\n",
    "#Import machine learning\n",
    "from sklearn.linear_model import LinearRegression\n",
    "from sklearn.ensemble import RandomForestRegressor\n",
    "import xgboost\n",
    "\n",
    "from sklearn.model_selection import train_test_split #split\n",
    "from sklearn.metrics import r2_score, mean_squared_error #metrics"
   ]
  },
  {
   "cell_type": "code",
   "execution_count": 9,
   "id": "c8dfa60b",
   "metadata": {
    "execution": {
     "iopub.execute_input": "2024-04-15T11:54:19.739623Z",
     "iopub.status.busy": "2024-04-15T11:54:19.738569Z",
     "iopub.status.idle": "2024-04-15T11:54:22.434131Z",
     "shell.execute_reply": "2024-04-15T11:54:22.432806Z"
    },
    "papermill": {
     "duration": 2.709478,
     "end_time": "2024-04-15T11:54:22.437433",
     "exception": false,
     "start_time": "2024-04-15T11:54:19.727955",
     "status": "completed"
    },
    "tags": []
   },
   "outputs": [],
   "source": [
    "df_listings = pd.read_csv(\"listings.csv\")\n",
    "df_calendar = pd.read_csv(\"calendar.csv\")\n",
    "df_reviews = pd.read_csv(\"reviews.csv\")\n",
    "\n"
   ]
  },
  {
   "cell_type": "markdown",
   "id": "63b8df99",
   "metadata": {
    "papermill": {
     "duration": 0.008158,
     "end_time": "2024-04-15T11:54:22.454253",
     "exception": false,
     "start_time": "2024-04-15T11:54:22.446095",
     "status": "completed"
    },
    "tags": []
   },
   "source": [
    "**Question: What are the busiest times of the year to visit Seattle? By how much do prices spike?**\n",
    "The most important problem I faced when planning for a trip is to keep it within a budget. Airbnb serves an economical option to frugal travllers across the globe. In this use case, I would like to project the busiest time of the year with a correlation to the price trend to find an optimal price for my budget.\n",
    "\n",
    "**Approach**:\n",
    "First of all, I chose Seattle dataset, and it will take me the following steps to come into conclusions about factors, affecting reservation prices:\n",
    "\n",
    "1. The first look at the data:\n",
    "    * what information we have?\n",
    "    * what information is missing?\n",
    "    * discover general facts: time period, total number of listings in the dataset,\n",
    "2. Initial data preparation:\n",
    "    * remove the irrelevant information;\n",
    "    * reformat the information and imputing missing values;\n",
    "3. High level analysis:\n",
    "    * find out high level trends and correlations;\n",
    "4. Use machine learning for further analysis.\n",
    "\n",
    "\n",
    "\n"
   ]
  },
  {
   "cell_type": "markdown",
   "id": "7a5b6b99",
   "metadata": {
    "papermill": {
     "duration": 0.008361,
     "end_time": "2024-04-15T11:54:22.471822",
     "exception": false,
     "start_time": "2024-04-15T11:54:22.463461",
     "status": "completed"
    },
    "tags": []
   },
   "source": [
    "**High level definition of the data files received from airbnb**\n",
    "\n",
    "* listings.csv - summary information on listing in Seattle such as: location, host information, cleaning and guest fees, amenities etc.\n",
    "* calendar.csv - calendar data for the listings: availability dates, price for each date.\n",
    "* reviews.csv - summary review data for the listings. This dataset won't be used in further analysis."
   ]
  },
  {
   "cell_type": "markdown",
   "id": "52a03eaf",
   "metadata": {
    "papermill": {
     "duration": 0.008543,
     "end_time": "2024-04-15T11:54:22.489375",
     "exception": false,
     "start_time": "2024-04-15T11:54:22.480832",
     "status": "completed"
    },
    "tags": []
   },
   "source": [
    "**What information we have?**"
   ]
  },
  {
   "cell_type": "code",
   "execution_count": 10,
   "id": "5d4a70ec",
   "metadata": {
    "execution": {
     "iopub.execute_input": "2024-04-15T11:54:22.509945Z",
     "iopub.status.busy": "2024-04-15T11:54:22.508768Z",
     "iopub.status.idle": "2024-04-15T11:54:22.524490Z",
     "shell.execute_reply": "2024-04-15T11:54:22.523152Z"
    },
    "papermill": {
     "duration": 0.028902,
     "end_time": "2024-04-15T11:54:22.527159",
     "exception": false,
     "start_time": "2024-04-15T11:54:22.498257",
     "status": "completed"
    },
    "tags": []
   },
   "outputs": [
    {
     "name": "stdout",
     "output_type": "stream",
     "text": [
      "listings.csv dataset contains information on 3818 listings provided by 2751 hosts.\n"
     ]
    }
   ],
   "source": [
    "#find number of listings and number of hosts\n",
    "listings_number=df_listings['id'].count()\n",
    "hosts= len(df_listings['host_id'].unique())\n",
    "print(f'listings.csv dataset contains information on {listings_number} listings provided by {hosts} hosts.')"
   ]
  },
  {
   "cell_type": "markdown",
   "id": "cab6a596",
   "metadata": {
    "papermill": {
     "duration": 0.009391,
     "end_time": "2024-04-15T11:54:22.545182",
     "exception": false,
     "start_time": "2024-04-15T11:54:22.535791",
     "status": "completed"
    },
    "tags": []
   },
   "source": []
  },
  {
   "cell_type": "markdown",
   "id": "5083c016",
   "metadata": {
    "papermill": {
     "duration": 0.008245,
     "end_time": "2024-04-15T11:54:22.561977",
     "exception": false,
     "start_time": "2024-04-15T11:54:22.553732",
     "status": "completed"
    },
    "tags": []
   },
   "source": []
  },
  {
   "cell_type": "markdown",
   "id": "b1926665",
   "metadata": {
    "papermill": {
     "duration": 0.008181,
     "end_time": "2024-04-15T11:54:22.579248",
     "exception": false,
     "start_time": "2024-04-15T11:54:22.571067",
     "status": "completed"
    },
    "tags": []
   },
   "source": [
    "**What information is missing?**"
   ]
  },
  {
   "cell_type": "code",
   "execution_count": 11,
   "id": "4d8d3eec",
   "metadata": {
    "execution": {
     "iopub.execute_input": "2024-04-15T11:54:22.599881Z",
     "iopub.status.busy": "2024-04-15T11:54:22.598474Z",
     "iopub.status.idle": "2024-04-15T11:54:23.447853Z",
     "shell.execute_reply": "2024-04-15T11:54:23.446612Z"
    },
    "papermill": {
     "duration": 0.862441,
     "end_time": "2024-04-15T11:54:23.450434",
     "exception": false,
     "start_time": "2024-04-15T11:54:22.587993",
     "status": "completed"
    },
    "tags": []
   },
   "outputs": [
    {
     "data": {
      "text/plain": [
       "<Axes: title={'center': 'Missing values per column, %'}>"
      ]
     },
     "execution_count": 11,
     "metadata": {},
     "output_type": "execute_result"
    },
    {
     "data": {
      "image/png": "[encoded data removed]",
      "text/plain": [
       "<Figure size 640x480 with 1 Axes>"
      ]
     },
     "metadata": {},
     "output_type": "display_data"
    }
   ],
   "source": [
    "#find percentage of missing values for each column\n",
    "listings_missing_df = df_listings.isnull().mean()*100\n",
    "\n",
    "#filter out only columns, which have missing values\n",
    "listings_columns_with_nan = listings_missing_df[listings_missing_df > 0]\n",
    "\n",
    "#plot the results\n",
    "listings_columns_with_nan.plot.bar(title='Missing values per column, %')"
   ]
  },
  {
   "cell_type": "markdown",
   "id": "3a1c2763",
   "metadata": {
    "papermill": {
     "duration": 0.009549,
     "end_time": "2024-04-15T11:54:23.470167",
     "exception": false,
     "start_time": "2024-04-15T11:54:23.460618",
     "status": "completed"
    },
    "tags": []
   },
   "source": [
    "**Discover general facts**\n",
    "\n",
    "As we see from the above graph,few columns like the license,square feet etc has the highest number of missing values.Also 40% of the data in the monthly price, monthly price, security deposit etc are missing. To avoid overfitting we must avoid the missing values from the irrelevant columns\n",
    "\n"
   ]
  },
  {
   "cell_type": "markdown",
   "id": "602517ca",
   "metadata": {
    "papermill": {
     "duration": 0.009669,
     "end_time": "2024-04-15T11:54:23.489747",
     "exception": false,
     "start_time": "2024-04-15T11:54:23.480078",
     "status": "completed"
    },
    "tags": []
   },
   "source": []
  },
  {
   "cell_type": "markdown",
   "id": "633fb769",
   "metadata": {
    "papermill": {
     "duration": 0.009561,
     "end_time": "2024-04-15T11:54:23.509243",
     "exception": false,
     "start_time": "2024-04-15T11:54:23.499682",
     "status": "completed"
    },
    "tags": []
   },
   "source": [
    "**Stats about the calendar dataset**"
   ]
  },
  {
   "cell_type": "code",
   "execution_count": 12,
   "id": "c646361b",
   "metadata": {
    "execution": {
     "iopub.execute_input": "2024-04-15T11:54:23.531609Z",
     "iopub.status.busy": "2024-04-15T11:54:23.530554Z",
     "iopub.status.idle": "2024-04-15T11:54:23.548725Z",
     "shell.execute_reply": "2024-04-15T11:54:23.547575Z"
    },
    "papermill": {
     "duration": 0.03235,
     "end_time": "2024-04-15T11:54:23.551632",
     "exception": false,
     "start_time": "2024-04-15T11:54:23.519282",
     "status": "completed"
    },
    "tags": []
   },
   "outputs": [
    {
     "data": {
      "text/html": [
       "<div>\n",
       "<style scoped>\n",
       "    .dataframe tbody tr th:only-of-type {\n",
       "        vertical-align: middle;\n",
       "    }\n",
       "\n",
       "    .dataframe tbody tr th {\n",
       "        vertical-align: top;\n",
       "    }\n",
       "\n",
       "    .dataframe thead th {\n",
       "        text-align: right;\n",
       "    }\n",
       "</style>\n",
       "<table border=\"1\" class=\"dataframe\">\n",
       "  <thead>\n",
       "    <tr style=\"text-align: right;\">\n",
       "      <th></th>\n",
       "      <th>listing_id</th>\n",
       "      <th>date</th>\n",
       "      <th>available</th>\n",
       "      <th>price</th>\n",
       "    </tr>\n",
       "  </thead>\n",
       "  <tbody>\n",
       "    <tr>\n",
       "      <th>0</th>\n",
       "      <td>241032</td>\n",
       "      <td>2016-01-04</td>\n",
       "      <td>t</td>\n",
       "      <td>$85.00</td>\n",
       "    </tr>\n",
       "    <tr>\n",
       "      <th>1</th>\n",
       "      <td>241032</td>\n",
       "      <td>2016-01-05</td>\n",
       "      <td>t</td>\n",
       "      <td>$85.00</td>\n",
       "    </tr>\n",
       "    <tr>\n",
       "      <th>2</th>\n",
       "      <td>241032</td>\n",
       "      <td>2016-01-06</td>\n",
       "      <td>f</td>\n",
       "      <td>NaN</td>\n",
       "    </tr>\n",
       "    <tr>\n",
       "      <th>3</th>\n",
       "      <td>241032</td>\n",
       "      <td>2016-01-07</td>\n",
       "      <td>f</td>\n",
       "      <td>NaN</td>\n",
       "    </tr>\n",
       "    <tr>\n",
       "      <th>4</th>\n",
       "      <td>241032</td>\n",
       "      <td>2016-01-08</td>\n",
       "      <td>f</td>\n",
       "      <td>NaN</td>\n",
       "    </tr>\n",
       "  </tbody>\n",
       "</table>\n",
       "</div>"
      ],
      "text/plain": [
       "   listing_id        date available   price\n",
       "0      241032  2016-01-04         t  $85.00\n",
       "1      241032  2016-01-05         t  $85.00\n",
       "2      241032  2016-01-06         f     NaN\n",
       "3      241032  2016-01-07         f     NaN\n",
       "4      241032  2016-01-08         f     NaN"
      ]
     },
     "execution_count": 12,
     "metadata": {},
     "output_type": "execute_result"
    }
   ],
   "source": [
    "df_calendar.head()"
   ]
  },
  {
   "cell_type": "markdown",
   "id": "eed78f4e",
   "metadata": {
    "papermill": {
     "duration": 0.00989,
     "end_time": "2024-04-15T11:54:23.571828",
     "exception": false,
     "start_time": "2024-04-15T11:54:23.561938",
     "status": "completed"
    },
    "tags": []
   },
   "source": [
    "*Note: Price column has both \\$ character and NaN values*"
   ]
  },
  {
   "cell_type": "code",
   "execution_count": 13,
   "id": "dafb4c65",
   "metadata": {
    "execution": {
     "iopub.execute_input": "2024-04-15T11:54:23.594286Z",
     "iopub.status.busy": "2024-04-15T11:54:23.593519Z",
     "iopub.status.idle": "2024-04-15T11:54:24.036682Z",
     "shell.execute_reply": "2024-04-15T11:54:24.035232Z"
    },
    "papermill": {
     "duration": 0.457362,
     "end_time": "2024-04-15T11:54:24.039390",
     "exception": false,
     "start_time": "2024-04-15T11:54:23.582028",
     "status": "completed"
    },
    "tags": []
   },
   "outputs": [
    {
     "name": "stdout",
     "output_type": "stream",
     "text": [
      "calendar.csv dataset contains 1393570 rows.\n",
      "The first date of observation is 2016-01-04 and the last date is 2017-01-02.\n"
     ]
    }
   ],
   "source": [
    "#find number of rows in dataset\n",
    "rows_num = df_calendar.shape[0]\n",
    "\n",
    "#find first and last date of the calendar\n",
    "min_date = df_calendar['date'].min()\n",
    "max_date = df_calendar['date'].max()\n",
    "\n",
    "print(f'calendar.csv dataset contains {rows_num} rows.')\n",
    "print(f'The first date of observation is {min_date} and the last date is {max_date}.')"
   ]
  },
  {
   "cell_type": "markdown",
   "id": "9e3b471b",
   "metadata": {
    "papermill": {
     "duration": 0.010791,
     "end_time": "2024-04-15T11:54:24.060916",
     "exception": false,
     "start_time": "2024-04-15T11:54:24.050125",
     "status": "completed"
    },
    "tags": []
   },
   "source": [
    "**Calendar data set missing value stats**"
   ]
  },
  {
   "cell_type": "code",
   "execution_count": 14,
   "id": "55b2c1c6",
   "metadata": {
    "execution": {
     "iopub.execute_input": "2024-04-15T11:54:24.084510Z",
     "iopub.status.busy": "2024-04-15T11:54:24.083657Z",
     "iopub.status.idle": "2024-04-15T11:54:24.815818Z",
     "shell.execute_reply": "2024-04-15T11:54:24.814712Z"
    },
    "papermill": {
     "duration": 0.747457,
     "end_time": "2024-04-15T11:54:24.818994",
     "exception": false,
     "start_time": "2024-04-15T11:54:24.071537",
     "status": "completed"
    },
    "tags": []
   },
   "outputs": [
    {
     "data": {
      "text/plain": [
       "<Axes: title={'center': 'Missing values per column, %'}>"
      ]
     },
     "execution_count": 14,
     "metadata": {},
     "output_type": "execute_result"
    },
    {
     "data": {
      "image/png": "[encoded data removed]",
      "text/plain": [
       "<Figure size 640x480 with 1 Axes>"
      ]
     },
     "metadata": {},
     "output_type": "display_data"
    }
   ],
   "source": [
    "#find percentage of missing values for each column\n",
    "calendar_missing_df = df_calendar.isnull().mean()*100\n",
    "calendar_missing_df.plot.bar(title='Missing values per column, %')"
   ]
  },
  {
   "cell_type": "markdown",
   "id": "8b2ef3ad",
   "metadata": {
    "papermill": {
     "duration": 0.010785,
     "end_time": "2024-04-15T11:54:24.840971",
     "exception": false,
     "start_time": "2024-04-15T11:54:24.830186",
     "status": "completed"
    },
    "tags": []
   },
   "source": [
    "From the outset it appears that there is a correlation to the missing price values with the available status of the listing"
   ]
  },
  {
   "cell_type": "markdown",
   "id": "d107d10d",
   "metadata": {
    "papermill": {
     "duration": 0.010677,
     "end_time": "2024-04-15T11:54:24.862783",
     "exception": false,
     "start_time": "2024-04-15T11:54:24.852106",
     "status": "completed"
    },
    "tags": []
   },
   "source": [
    "As we see on digram, there are only 32% percent of missing values for price column for dates, when the listing was unavailable."
   ]
  },
  {
   "cell_type": "markdown",
   "id": "ce0092a4",
   "metadata": {
    "papermill": {
     "duration": 0.010585,
     "end_time": "2024-04-15T11:54:24.884563",
     "exception": false,
     "start_time": "2024-04-15T11:54:24.873978",
     "status": "completed"
    },
    "tags": []
   },
   "source": [
    "**Cleansing the Data**\n",
    "\n",
    "Before trying to get the first outcomes, the data should be pre-processed:\n",
    "\n",
    "* Datasets should be merged into one using the listing identifier;\n",
    "* Irrelevant columns and columns, which contain missing data should be removed from the analysis;\n",
    "* Dates and prices should be converted from text into numbers."
   ]
  },
  {
   "cell_type": "code",
   "execution_count": 15,
   "id": "0caffbae",
   "metadata": {
    "execution": {
     "iopub.execute_input": "2024-04-15T11:54:24.908372Z",
     "iopub.status.busy": "2024-04-15T11:54:24.907630Z",
     "iopub.status.idle": "2024-04-15T11:54:28.125044Z",
     "shell.execute_reply": "2024-04-15T11:54:28.123772Z"
    },
    "papermill": {
     "duration": 3.233552,
     "end_time": "2024-04-15T11:54:28.128914",
     "exception": false,
     "start_time": "2024-04-15T11:54:24.895362",
     "status": "completed"
    },
    "tags": []
   },
   "outputs": [
    {
     "data": {
      "text/html": [
       "<div>\n",
       "<style scoped>\n",
       "    .dataframe tbody tr th:only-of-type {\n",
       "        vertical-align: middle;\n",
       "    }\n",
       "\n",
       "    .dataframe tbody tr th {\n",
       "        vertical-align: top;\n",
       "    }\n",
       "\n",
       "    .dataframe thead th {\n",
       "        text-align: right;\n",
       "    }\n",
       "</style>\n",
       "<table border=\"1\" class=\"dataframe\">\n",
       "  <thead>\n",
       "    <tr style=\"text-align: right;\">\n",
       "      <th></th>\n",
       "      <th>listing_id</th>\n",
       "      <th>date</th>\n",
       "      <th>available</th>\n",
       "      <th>price_x</th>\n",
       "      <th>listing_url</th>\n",
       "      <th>scrape_id</th>\n",
       "      <th>last_scraped</th>\n",
       "      <th>name</th>\n",
       "      <th>summary</th>\n",
       "      <th>space</th>\n",
       "      <th>...</th>\n",
       "      <th>review_scores_value</th>\n",
       "      <th>requires_license</th>\n",
       "      <th>license</th>\n",
       "      <th>jurisdiction_names</th>\n",
       "      <th>instant_bookable</th>\n",
       "      <th>cancellation_policy</th>\n",
       "      <th>require_guest_profile_picture</th>\n",
       "      <th>require_guest_phone_verification</th>\n",
       "      <th>calculated_host_listings_count</th>\n",
       "      <th>reviews_per_month</th>\n",
       "    </tr>\n",
       "  </thead>\n",
       "  <tbody>\n",
       "    <tr>\n",
       "      <th>0</th>\n",
       "      <td>241032</td>\n",
       "      <td>2016-01-04</td>\n",
       "      <td>t</td>\n",
       "      <td>$85.00</td>\n",
       "      <td>https://www.airbnb.com/rooms/241032</td>\n",
       "      <td>20160104002432</td>\n",
       "      <td>2016-01-04</td>\n",
       "      <td>Stylish Queen Anne Apartment</td>\n",
       "      <td>NaN</td>\n",
       "      <td>Make your self at home in this charming one-be...</td>\n",
       "      <td>...</td>\n",
       "      <td>10.0</td>\n",
       "      <td>f</td>\n",
       "      <td>NaN</td>\n",
       "      <td>WASHINGTON</td>\n",
       "      <td>f</td>\n",
       "      <td>moderate</td>\n",
       "      <td>f</td>\n",
       "      <td>f</td>\n",
       "      <td>2</td>\n",
       "      <td>4.07</td>\n",
       "    </tr>\n",
       "    <tr>\n",
       "      <th>1</th>\n",
       "      <td>241032</td>\n",
       "      <td>2016-01-05</td>\n",
       "      <td>t</td>\n",
       "      <td>$85.00</td>\n",
       "      <td>https://www.airbnb.com/rooms/241032</td>\n",
       "      <td>20160104002432</td>\n",
       "      <td>2016-01-04</td>\n",
       "      <td>Stylish Queen Anne Apartment</td>\n",
       "      <td>NaN</td>\n",
       "      <td>Make your self at home in this charming one-be...</td>\n",
       "      <td>...</td>\n",
       "      <td>10.0</td>\n",
       "      <td>f</td>\n",
       "      <td>NaN</td>\n",
       "      <td>WASHINGTON</td>\n",
       "      <td>f</td>\n",
       "      <td>moderate</td>\n",
       "      <td>f</td>\n",
       "      <td>f</td>\n",
       "      <td>2</td>\n",
       "      <td>4.07</td>\n",
       "    </tr>\n",
       "    <tr>\n",
       "      <th>2</th>\n",
       "      <td>241032</td>\n",
       "      <td>2016-01-06</td>\n",
       "      <td>f</td>\n",
       "      <td>NaN</td>\n",
       "      <td>https://www.airbnb.com/rooms/241032</td>\n",
       "      <td>20160104002432</td>\n",
       "      <td>2016-01-04</td>\n",
       "      <td>Stylish Queen Anne Apartment</td>\n",
       "      <td>NaN</td>\n",
       "      <td>Make your self at home in this charming one-be...</td>\n",
       "      <td>...</td>\n",
       "      <td>10.0</td>\n",
       "      <td>f</td>\n",
       "      <td>NaN</td>\n",
       "      <td>WASHINGTON</td>\n",
       "      <td>f</td>\n",
       "      <td>moderate</td>\n",
       "      <td>f</td>\n",
       "      <td>f</td>\n",
       "      <td>2</td>\n",
       "      <td>4.07</td>\n",
       "    </tr>\n",
       "    <tr>\n",
       "      <th>3</th>\n",
       "      <td>241032</td>\n",
       "      <td>2016-01-07</td>\n",
       "      <td>f</td>\n",
       "      <td>NaN</td>\n",
       "      <td>https://www.airbnb.com/rooms/241032</td>\n",
       "      <td>20160104002432</td>\n",
       "      <td>2016-01-04</td>\n",
       "      <td>Stylish Queen Anne Apartment</td>\n",
       "      <td>NaN</td>\n",
       "      <td>Make your self at home in this charming one-be...</td>\n",
       "      <td>...</td>\n",
       "      <td>10.0</td>\n",
       "      <td>f</td>\n",
       "      <td>NaN</td>\n",
       "      <td>WASHINGTON</td>\n",
       "      <td>f</td>\n",
       "      <td>moderate</td>\n",
       "      <td>f</td>\n",
       "      <td>f</td>\n",
       "      <td>2</td>\n",
       "      <td>4.07</td>\n",
       "    </tr>\n",
       "    <tr>\n",
       "      <th>4</th>\n",
       "      <td>241032</td>\n",
       "      <td>2016-01-08</td>\n",
       "      <td>f</td>\n",
       "      <td>NaN</td>\n",
       "      <td>https://www.airbnb.com/rooms/241032</td>\n",
       "      <td>20160104002432</td>\n",
       "      <td>2016-01-04</td>\n",
       "      <td>Stylish Queen Anne Apartment</td>\n",
       "      <td>NaN</td>\n",
       "      <td>Make your self at home in this charming one-be...</td>\n",
       "      <td>...</td>\n",
       "      <td>10.0</td>\n",
       "      <td>f</td>\n",
       "      <td>NaN</td>\n",
       "      <td>WASHINGTON</td>\n",
       "      <td>f</td>\n",
       "      <td>moderate</td>\n",
       "      <td>f</td>\n",
       "      <td>f</td>\n",
       "      <td>2</td>\n",
       "      <td>4.07</td>\n",
       "    </tr>\n",
       "  </tbody>\n",
       "</table>\n",
       "<p>5 rows × 95 columns</p>\n",
       "</div>"
      ],
      "text/plain": [
       "   listing_id        date available price_x  \\\n",
       "0      241032  2016-01-04         t  $85.00   \n",
       "1      241032  2016-01-05         t  $85.00   \n",
       "2      241032  2016-01-06         f     NaN   \n",
       "3      241032  2016-01-07         f     NaN   \n",
       "4      241032  2016-01-08         f     NaN   \n",
       "\n",
       "                           listing_url       scrape_id last_scraped  \\\n",
       "0  https://www.airbnb.com/rooms/241032  20160104002432   2016-01-04   \n",
       "1  https://www.airbnb.com/rooms/241032  20160104002432   2016-01-04   \n",
       "2  https://www.airbnb.com/rooms/241032  20160104002432   2016-01-04   \n",
       "3  https://www.airbnb.com/rooms/241032  20160104002432   2016-01-04   \n",
       "4  https://www.airbnb.com/rooms/241032  20160104002432   2016-01-04   \n",
       "\n",
       "                           name summary  \\\n",
       "0  Stylish Queen Anne Apartment     NaN   \n",
       "1  Stylish Queen Anne Apartment     NaN   \n",
       "2  Stylish Queen Anne Apartment     NaN   \n",
       "3  Stylish Queen Anne Apartment     NaN   \n",
       "4  Stylish Queen Anne Apartment     NaN   \n",
       "\n",
       "                                               space  ... review_scores_value  \\\n",
       "0  Make your self at home in this charming one-be...  ...                10.0   \n",
       "1  Make your self at home in this charming one-be...  ...                10.0   \n",
       "2  Make your self at home in this charming one-be...  ...                10.0   \n",
       "3  Make your self at home in this charming one-be...  ...                10.0   \n",
       "4  Make your self at home in this charming one-be...  ...                10.0   \n",
       "\n",
       "  requires_license license jurisdiction_names instant_bookable  \\\n",
       "0                f     NaN         WASHINGTON                f   \n",
       "1                f     NaN         WASHINGTON                f   \n",
       "2                f     NaN         WASHINGTON                f   \n",
       "3                f     NaN         WASHINGTON                f   \n",
       "4                f     NaN         WASHINGTON                f   \n",
       "\n",
       "  cancellation_policy require_guest_profile_picture  \\\n",
       "0            moderate                             f   \n",
       "1            moderate                             f   \n",
       "2            moderate                             f   \n",
       "3            moderate                             f   \n",
       "4            moderate                             f   \n",
       "\n",
       "  require_guest_phone_verification calculated_host_listings_count  \\\n",
       "0                                f                              2   \n",
       "1                                f                              2   \n",
       "2                                f                              2   \n",
       "3                                f                              2   \n",
       "4                                f                              2   \n",
       "\n",
       "   reviews_per_month  \n",
       "0               4.07  \n",
       "1               4.07  \n",
       "2               4.07  \n",
       "3               4.07  \n",
       "4               4.07  \n",
       "\n",
       "[5 rows x 95 columns]"
      ]
     },
     "execution_count": 15,
     "metadata": {},
     "output_type": "execute_result"
    }
   ],
   "source": [
    "#merge datasets\n",
    "df_listings = df_listings.rename(index=str, columns={\"id\": \"listing_id\"})\n",
    "df = pd.merge(df_calendar, df_listings, on = 'listing_id')\n",
    "\n",
    "df.head()"
   ]
  },
  {
   "cell_type": "code",
   "execution_count": 16,
   "id": "1f21556e",
   "metadata": {
    "execution": {
     "iopub.execute_input": "2024-04-15T11:54:28.157051Z",
     "iopub.status.busy": "2024-04-15T11:54:28.156557Z",
     "iopub.status.idle": "2024-04-15T11:54:28.532268Z",
     "shell.execute_reply": "2024-04-15T11:54:28.529520Z"
    },
    "papermill": {
     "duration": 0.394086,
     "end_time": "2024-04-15T11:54:28.535656",
     "exception": false,
     "start_time": "2024-04-15T11:54:28.141570",
     "status": "completed"
    },
    "tags": []
   },
   "outputs": [],
   "source": [
    " #drop the irrelevant columns\n",
    "columns_to_drop = ['available', 'host_id','host_location','host_acceptance_rate','host_neighbourhood',\n",
    "               'host_total_listings_count', 'weekly_price', 'monthly_price',\n",
    "               'security_deposit', 'cleaning_fee', 'calendar_updated',\n",
    "               'listing_url','last_scraped' ,'scrape_id', 'name', 'summary', 'space', 'description',\n",
    "               'experiences_offered', 'street', 'neighbourhood', 'neighbourhood_cleansed', 'zipcode',\n",
    "               'neighborhood_overview', 'notes', 'transit', 'thumbnail_url', 'medium_url', 'picture_url',\n",
    "               'xl_picture_url', 'host_url', 'host_name', 'host_about', 'host_thumbnail_url', 'host_picture_url',\n",
    "               'city', 'state', 'market', 'smart_location', 'country_code', 'country', 'latitude', 'longitude',\n",
    "               'is_location_exact', 'square_feet', 'has_availability', 'availability_30',\n",
    "               'availability_60', 'availability_90', 'availability_365', 'calendar_last_scraped',\n",
    "              'first_review', 'last_review', 'requires_license', 'license', 'jurisdiction_names', 'price_y',\n",
    "              'reviews_per_month']\n",
    "df = df.drop(columns = columns_to_drop)\n",
    "\n",
    "def get_val_from_list(row, column_name, value):\n",
    "    ''' Fill in dummy column for values '''\n",
    "    val = 0.0\n",
    "    try:\n",
    "        vals = row[column_name].replace('[', '').replace(\"'\", '').replace(\"]\", '').replace('\"', '').replace('{', '').replace('}', '').split(',')\n",
    "        if value in vals:\n",
    "            val = 1.0\n",
    "    except:\n",
    "        val = 0.0\n",
    "    return val\n",
    "def split_list_into_columns(df, column_name, max_dummies_num = 10):\n",
    "    ''' Split values in columns, which contain lists (for example, amenities) '''\n",
    "    \n",
    "    # get dictionary of unique values in lists across dataset rows\n",
    "    values_dict = {}\n",
    "\n",
    "    for unique_value in df[column_name].unique(): \n",
    "        for value in unique_value.replace('[', '').replace(\"'\", '').replace(\"]\", '').replace('\"', '').replace('{', '').replace('}', '').split(','):\n",
    "            if value in values_dict:\n",
    "                values_dict[value] = values_dict[value] + 1\n",
    "            else:\n",
    "                values_dict[value] = 0\n",
    "                \n",
    "    values_sorted = sorted(values_dict.items(), key=lambda kv: kv[1], reverse = True)\n",
    "      \n",
    "    # split into columns\n",
    "    for value in values_sorted[: max_dummies_num]:\n",
    "        df[column_name + '_' + value[0]] = df.apply(lambda row: get_val_from_list(row, column_name, value[0]),axis=1)\n",
    "        \n",
    "    return"
   ]
  },
  {
   "cell_type": "code",
   "execution_count": 17,
   "id": "380df70c",
   "metadata": {
    "execution": {
     "iopub.execute_input": "2024-04-15T11:54:28.560532Z",
     "iopub.status.busy": "2024-04-15T11:54:28.560112Z",
     "iopub.status.idle": "2024-04-15T11:54:29.897065Z",
     "shell.execute_reply": "2024-04-15T11:54:29.895744Z"
    },
    "papermill": {
     "duration": 1.352778,
     "end_time": "2024-04-15T11:54:29.900051",
     "exception": false,
     "start_time": "2024-04-15T11:54:28.547273",
     "status": "completed"
    },
    "tags": []
   },
   "outputs": [],
   "source": [
    "#convert date from the calendar into month and drop the date colum\n",
    "df['month'] = pd.to_datetime(df['date']).dt.month\n",
    "df['year'] = pd.to_datetime(df['date']).dt.year\n",
    "df = df.drop(columns = ['date'])"
   ]
  },
  {
   "cell_type": "code",
   "execution_count": 18,
   "id": "ffa38f42",
   "metadata": {
    "execution": {
     "iopub.execute_input": "2024-04-15T11:54:29.925331Z",
     "iopub.status.busy": "2024-04-15T11:54:29.924937Z",
     "iopub.status.idle": "2024-04-15T11:54:32.355699Z",
     "shell.execute_reply": "2024-04-15T11:54:32.354434Z"
    },
    "papermill": {
     "duration": 2.446411,
     "end_time": "2024-04-15T11:54:32.358430",
     "exception": false,
     "start_time": "2024-04-15T11:54:29.912019",
     "status": "completed"
    },
    "tags": []
   },
   "outputs": [
    {
     "data": {
      "text/html": [
       "<div>\n",
       "<style scoped>\n",
       "    .dataframe tbody tr th:only-of-type {\n",
       "        vertical-align: middle;\n",
       "    }\n",
       "\n",
       "    .dataframe tbody tr th {\n",
       "        vertical-align: top;\n",
       "    }\n",
       "\n",
       "    .dataframe thead th {\n",
       "        text-align: right;\n",
       "    }\n",
       "</style>\n",
       "<table border=\"1\" class=\"dataframe\">\n",
       "  <thead>\n",
       "    <tr style=\"text-align: right;\">\n",
       "      <th></th>\n",
       "      <th>listing_id</th>\n",
       "      <th>host_since</th>\n",
       "      <th>host_response_time</th>\n",
       "      <th>host_response_rate</th>\n",
       "      <th>host_is_superhost</th>\n",
       "      <th>host_listings_count</th>\n",
       "      <th>host_verifications</th>\n",
       "      <th>host_has_profile_pic</th>\n",
       "      <th>host_identity_verified</th>\n",
       "      <th>neighbourhood_group_cleansed</th>\n",
       "      <th>...</th>\n",
       "      <th>review_scores_location</th>\n",
       "      <th>review_scores_value</th>\n",
       "      <th>instant_bookable</th>\n",
       "      <th>cancellation_policy</th>\n",
       "      <th>require_guest_profile_picture</th>\n",
       "      <th>require_guest_phone_verification</th>\n",
       "      <th>calculated_host_listings_count</th>\n",
       "      <th>month</th>\n",
       "      <th>year</th>\n",
       "      <th>price</th>\n",
       "    </tr>\n",
       "  </thead>\n",
       "  <tbody>\n",
       "    <tr>\n",
       "      <th>0</th>\n",
       "      <td>241032</td>\n",
       "      <td>2011-08-11</td>\n",
       "      <td>within a few hours</td>\n",
       "      <td>96%</td>\n",
       "      <td>f</td>\n",
       "      <td>3.0</td>\n",
       "      <td>['email', 'phone', 'reviews', 'kba']</td>\n",
       "      <td>t</td>\n",
       "      <td>t</td>\n",
       "      <td>Queen Anne</td>\n",
       "      <td>...</td>\n",
       "      <td>9.0</td>\n",
       "      <td>10.0</td>\n",
       "      <td>f</td>\n",
       "      <td>moderate</td>\n",
       "      <td>f</td>\n",
       "      <td>f</td>\n",
       "      <td>2</td>\n",
       "      <td>1</td>\n",
       "      <td>2016</td>\n",
       "      <td>85.0</td>\n",
       "    </tr>\n",
       "    <tr>\n",
       "      <th>1</th>\n",
       "      <td>241032</td>\n",
       "      <td>2011-08-11</td>\n",
       "      <td>within a few hours</td>\n",
       "      <td>96%</td>\n",
       "      <td>f</td>\n",
       "      <td>3.0</td>\n",
       "      <td>['email', 'phone', 'reviews', 'kba']</td>\n",
       "      <td>t</td>\n",
       "      <td>t</td>\n",
       "      <td>Queen Anne</td>\n",
       "      <td>...</td>\n",
       "      <td>9.0</td>\n",
       "      <td>10.0</td>\n",
       "      <td>f</td>\n",
       "      <td>moderate</td>\n",
       "      <td>f</td>\n",
       "      <td>f</td>\n",
       "      <td>2</td>\n",
       "      <td>1</td>\n",
       "      <td>2016</td>\n",
       "      <td>85.0</td>\n",
       "    </tr>\n",
       "    <tr>\n",
       "      <th>9</th>\n",
       "      <td>241032</td>\n",
       "      <td>2011-08-11</td>\n",
       "      <td>within a few hours</td>\n",
       "      <td>96%</td>\n",
       "      <td>f</td>\n",
       "      <td>3.0</td>\n",
       "      <td>['email', 'phone', 'reviews', 'kba']</td>\n",
       "      <td>t</td>\n",
       "      <td>t</td>\n",
       "      <td>Queen Anne</td>\n",
       "      <td>...</td>\n",
       "      <td>9.0</td>\n",
       "      <td>10.0</td>\n",
       "      <td>f</td>\n",
       "      <td>moderate</td>\n",
       "      <td>f</td>\n",
       "      <td>f</td>\n",
       "      <td>2</td>\n",
       "      <td>1</td>\n",
       "      <td>2016</td>\n",
       "      <td>85.0</td>\n",
       "    </tr>\n",
       "    <tr>\n",
       "      <th>10</th>\n",
       "      <td>241032</td>\n",
       "      <td>2011-08-11</td>\n",
       "      <td>within a few hours</td>\n",
       "      <td>96%</td>\n",
       "      <td>f</td>\n",
       "      <td>3.0</td>\n",
       "      <td>['email', 'phone', 'reviews', 'kba']</td>\n",
       "      <td>t</td>\n",
       "      <td>t</td>\n",
       "      <td>Queen Anne</td>\n",
       "      <td>...</td>\n",
       "      <td>9.0</td>\n",
       "      <td>10.0</td>\n",
       "      <td>f</td>\n",
       "      <td>moderate</td>\n",
       "      <td>f</td>\n",
       "      <td>f</td>\n",
       "      <td>2</td>\n",
       "      <td>1</td>\n",
       "      <td>2016</td>\n",
       "      <td>85.0</td>\n",
       "    </tr>\n",
       "    <tr>\n",
       "      <th>14</th>\n",
       "      <td>241032</td>\n",
       "      <td>2011-08-11</td>\n",
       "      <td>within a few hours</td>\n",
       "      <td>96%</td>\n",
       "      <td>f</td>\n",
       "      <td>3.0</td>\n",
       "      <td>['email', 'phone', 'reviews', 'kba']</td>\n",
       "      <td>t</td>\n",
       "      <td>t</td>\n",
       "      <td>Queen Anne</td>\n",
       "      <td>...</td>\n",
       "      <td>9.0</td>\n",
       "      <td>10.0</td>\n",
       "      <td>f</td>\n",
       "      <td>moderate</td>\n",
       "      <td>f</td>\n",
       "      <td>f</td>\n",
       "      <td>2</td>\n",
       "      <td>1</td>\n",
       "      <td>2016</td>\n",
       "      <td>85.0</td>\n",
       "    </tr>\n",
       "  </tbody>\n",
       "</table>\n",
       "<p>5 rows × 38 columns</p>\n",
       "</div>"
      ],
      "text/plain": [
       "    listing_id  host_since  host_response_time host_response_rate  \\\n",
       "0       241032  2011-08-11  within a few hours                96%   \n",
       "1       241032  2011-08-11  within a few hours                96%   \n",
       "9       241032  2011-08-11  within a few hours                96%   \n",
       "10      241032  2011-08-11  within a few hours                96%   \n",
       "14      241032  2011-08-11  within a few hours                96%   \n",
       "\n",
       "   host_is_superhost  host_listings_count  \\\n",
       "0                  f                  3.0   \n",
       "1                  f                  3.0   \n",
       "9                  f                  3.0   \n",
       "10                 f                  3.0   \n",
       "14                 f                  3.0   \n",
       "\n",
       "                      host_verifications host_has_profile_pic  \\\n",
       "0   ['email', 'phone', 'reviews', 'kba']                    t   \n",
       "1   ['email', 'phone', 'reviews', 'kba']                    t   \n",
       "9   ['email', 'phone', 'reviews', 'kba']                    t   \n",
       "10  ['email', 'phone', 'reviews', 'kba']                    t   \n",
       "14  ['email', 'phone', 'reviews', 'kba']                    t   \n",
       "\n",
       "   host_identity_verified neighbourhood_group_cleansed  ...  \\\n",
       "0                       t                   Queen Anne  ...   \n",
       "1                       t                   Queen Anne  ...   \n",
       "9                       t                   Queen Anne  ...   \n",
       "10                      t                   Queen Anne  ...   \n",
       "14                      t                   Queen Anne  ...   \n",
       "\n",
       "   review_scores_location review_scores_value  instant_bookable  \\\n",
       "0                     9.0                10.0                 f   \n",
       "1                     9.0                10.0                 f   \n",
       "9                     9.0                10.0                 f   \n",
       "10                    9.0                10.0                 f   \n",
       "14                    9.0                10.0                 f   \n",
       "\n",
       "    cancellation_policy  require_guest_profile_picture  \\\n",
       "0              moderate                              f   \n",
       "1              moderate                              f   \n",
       "9              moderate                              f   \n",
       "10             moderate                              f   \n",
       "14             moderate                              f   \n",
       "\n",
       "    require_guest_phone_verification calculated_host_listings_count month  \\\n",
       "0                                  f                              2     1   \n",
       "1                                  f                              2     1   \n",
       "9                                  f                              2     1   \n",
       "10                                 f                              2     1   \n",
       "14                                 f                              2     1   \n",
       "\n",
       "    year price  \n",
       "0   2016  85.0  \n",
       "1   2016  85.0  \n",
       "9   2016  85.0  \n",
       "10  2016  85.0  \n",
       "14  2016  85.0  \n",
       "\n",
       "[5 rows x 38 columns]"
      ]
     },
     "execution_count": 18,
     "metadata": {},
     "output_type": "execute_result"
    }
   ],
   "source": [
    "#remove rows where price_x == nan, because price will be used as response column\n",
    "df = df.dropna(subset=['price_x'])\n",
    "#convert price to number and drop the price_x column\n",
    "df['price'] = df['price_x'].replace('[\\$,]', '', regex=True).astype(float)\n",
    "\n",
    "df = df.drop(columns = ['price_x'])\n",
    "df.head()"
   ]
  },
  {
   "cell_type": "code",
   "execution_count": 19,
   "id": "3d5e9bf4",
   "metadata": {
    "execution": {
     "iopub.execute_input": "2024-04-15T11:54:32.384183Z",
     "iopub.status.busy": "2024-04-15T11:54:32.383794Z",
     "iopub.status.idle": "2024-04-15T11:54:32.595147Z",
     "shell.execute_reply": "2024-04-15T11:54:32.593825Z"
    },
    "papermill": {
     "duration": 0.227897,
     "end_time": "2024-04-15T11:54:32.598302",
     "exception": false,
     "start_time": "2024-04-15T11:54:32.370405",
     "status": "completed"
    },
    "tags": []
   },
   "outputs": [
    {
     "name": "stderr",
     "output_type": "stream",
     "text": [
      "/tmp/ipykernel_432/2216968528.py:10: FutureWarning: A value is trying to be set on a copy of a DataFrame or Series through chained assignment using an inplace method.\n",
      "The behavior will change in pandas 3.0. This inplace method will never work because the intermediate object on which we are setting values always behaves as a copy.\n",
      "\n",
      "For example, when doing 'df[col].method(value, inplace=True)', try using 'df.method({col: value}, inplace=True)' or df[col] = df[col].method(value) instead, to perform the operation inplace on the original object.\n",
      "\n",
      "\n",
      "  df['host_response_rate_num'].fillna(df['host_response_rate_num'].mean(), inplace = True)\n"
     ]
    }
   ],
   "source": [
    "#convert host_since date into number and fill in missing values, drop the original column\n",
    "df['host_since_year'] = pd.to_datetime(df['host_since']).dt.year\n",
    "df.loc[:, 'host_since_year'] = df['host_since_year'].fillna(df['host_since_year'].mean())\n",
    "df['host_since_year'] = df['host_since_year'].astype(int)\n",
    "#df['host_since_year'].fillna(df['host_since_year'].mean(), inplace = True)\n",
    "#df = df.drop(columns = ['host_since'])\n",
    "#convert host_response_rate into number and fill in missing values, drop the original column\n",
    "df['host_response_rate_num'] = df['host_response_rate'].astype(str)\n",
    "df['host_response_rate_num'] = df['host_response_rate_num'].str.replace(\"%\", \"\").astype(\"float\")\n",
    "df['host_response_rate_num'].fillna(df['host_response_rate_num'].mean(), inplace = True)\n",
    "\n",
    "df['host_response_rate_buckets'] = pd.qcut(df['host_response_rate_num'], 5, labels=False, duplicates = 'drop')\n",
    "\n",
    "df = df.drop(columns = ['host_response_rate', 'host_response_rate_num'])"
   ]
  },
  {
   "cell_type": "code",
   "execution_count": 20,
   "id": "c09774c6",
   "metadata": {},
   "outputs": [],
   "source": [
    "#split host_verifications into dummy columns and drop the original column\n",
    "# Fill NaN values with an empty string\n",
    "df['host_verifications'] = df['host_verifications'].fillna('')\n",
    "\n",
    "# Split host_verifications into dummy columns and drop the original column\n",
    "split_list_into_columns(df, 'host_verifications')\n",
    "df = df.drop(columns = ['host_verifications'])\n"
   ]
  },
  {
   "cell_type": "code",
   "execution_count": 24,
   "id": "12e9152b",
   "metadata": {},
   "outputs": [
    {
     "data": {
      "text/html": [
       "<div>\n",
       "<style scoped>\n",
       "    .dataframe tbody tr th:only-of-type {\n",
       "        vertical-align: middle;\n",
       "    }\n",
       "\n",
       "    .dataframe tbody tr th {\n",
       "        vertical-align: top;\n",
       "    }\n",
       "\n",
       "    .dataframe thead th {\n",
       "        text-align: right;\n",
       "    }\n",
       "</style>\n",
       "<table border=\"1\" class=\"dataframe\">\n",
       "  <thead>\n",
       "    <tr style=\"text-align: right;\">\n",
       "      <th></th>\n",
       "      <th>listing_id</th>\n",
       "      <th>host_since</th>\n",
       "      <th>host_response_time</th>\n",
       "      <th>host_is_superhost</th>\n",
       "      <th>host_listings_count</th>\n",
       "      <th>host_has_profile_pic</th>\n",
       "      <th>host_identity_verified</th>\n",
       "      <th>neighbourhood_group_cleansed</th>\n",
       "      <th>property_type</th>\n",
       "      <th>room_type</th>\n",
       "      <th>...</th>\n",
       "      <th>host_verifications_email</th>\n",
       "      <th>host_verifications_ phone</th>\n",
       "      <th>host_verifications_ reviews</th>\n",
       "      <th>host_verifications_ facebook</th>\n",
       "      <th>host_verifications_ jumio</th>\n",
       "      <th>host_verifications_ kba</th>\n",
       "      <th>host_verifications_ linkedin</th>\n",
       "      <th>host_verifications_ google</th>\n",
       "      <th>host_verifications_ manual_offline</th>\n",
       "      <th>host_verifications_phone</th>\n",
       "    </tr>\n",
       "  </thead>\n",
       "  <tbody>\n",
       "    <tr>\n",
       "      <th>0</th>\n",
       "      <td>241032</td>\n",
       "      <td>2011-08-11</td>\n",
       "      <td>within a few hours</td>\n",
       "      <td>f</td>\n",
       "      <td>3.0</td>\n",
       "      <td>t</td>\n",
       "      <td>t</td>\n",
       "      <td>Queen Anne</td>\n",
       "      <td>Apartment</td>\n",
       "      <td>Entire home/apt</td>\n",
       "      <td>...</td>\n",
       "      <td>1.0</td>\n",
       "      <td>1.0</td>\n",
       "      <td>1.0</td>\n",
       "      <td>0.0</td>\n",
       "      <td>0.0</td>\n",
       "      <td>1.0</td>\n",
       "      <td>0.0</td>\n",
       "      <td>0.0</td>\n",
       "      <td>0.0</td>\n",
       "      <td>0.0</td>\n",
       "    </tr>\n",
       "    <tr>\n",
       "      <th>1</th>\n",
       "      <td>241032</td>\n",
       "      <td>2011-08-11</td>\n",
       "      <td>within a few hours</td>\n",
       "      <td>f</td>\n",
       "      <td>3.0</td>\n",
       "      <td>t</td>\n",
       "      <td>t</td>\n",
       "      <td>Queen Anne</td>\n",
       "      <td>Apartment</td>\n",
       "      <td>Entire home/apt</td>\n",
       "      <td>...</td>\n",
       "      <td>1.0</td>\n",
       "      <td>1.0</td>\n",
       "      <td>1.0</td>\n",
       "      <td>0.0</td>\n",
       "      <td>0.0</td>\n",
       "      <td>1.0</td>\n",
       "      <td>0.0</td>\n",
       "      <td>0.0</td>\n",
       "      <td>0.0</td>\n",
       "      <td>0.0</td>\n",
       "    </tr>\n",
       "    <tr>\n",
       "      <th>9</th>\n",
       "      <td>241032</td>\n",
       "      <td>2011-08-11</td>\n",
       "      <td>within a few hours</td>\n",
       "      <td>f</td>\n",
       "      <td>3.0</td>\n",
       "      <td>t</td>\n",
       "      <td>t</td>\n",
       "      <td>Queen Anne</td>\n",
       "      <td>Apartment</td>\n",
       "      <td>Entire home/apt</td>\n",
       "      <td>...</td>\n",
       "      <td>1.0</td>\n",
       "      <td>1.0</td>\n",
       "      <td>1.0</td>\n",
       "      <td>0.0</td>\n",
       "      <td>0.0</td>\n",
       "      <td>1.0</td>\n",
       "      <td>0.0</td>\n",
       "      <td>0.0</td>\n",
       "      <td>0.0</td>\n",
       "      <td>0.0</td>\n",
       "    </tr>\n",
       "    <tr>\n",
       "      <th>10</th>\n",
       "      <td>241032</td>\n",
       "      <td>2011-08-11</td>\n",
       "      <td>within a few hours</td>\n",
       "      <td>f</td>\n",
       "      <td>3.0</td>\n",
       "      <td>t</td>\n",
       "      <td>t</td>\n",
       "      <td>Queen Anne</td>\n",
       "      <td>Apartment</td>\n",
       "      <td>Entire home/apt</td>\n",
       "      <td>...</td>\n",
       "      <td>1.0</td>\n",
       "      <td>1.0</td>\n",
       "      <td>1.0</td>\n",
       "      <td>0.0</td>\n",
       "      <td>0.0</td>\n",
       "      <td>1.0</td>\n",
       "      <td>0.0</td>\n",
       "      <td>0.0</td>\n",
       "      <td>0.0</td>\n",
       "      <td>0.0</td>\n",
       "    </tr>\n",
       "    <tr>\n",
       "      <th>14</th>\n",
       "      <td>241032</td>\n",
       "      <td>2011-08-11</td>\n",
       "      <td>within a few hours</td>\n",
       "      <td>f</td>\n",
       "      <td>3.0</td>\n",
       "      <td>t</td>\n",
       "      <td>t</td>\n",
       "      <td>Queen Anne</td>\n",
       "      <td>Apartment</td>\n",
       "      <td>Entire home/apt</td>\n",
       "      <td>...</td>\n",
       "      <td>1.0</td>\n",
       "      <td>1.0</td>\n",
       "      <td>1.0</td>\n",
       "      <td>0.0</td>\n",
       "      <td>0.0</td>\n",
       "      <td>1.0</td>\n",
       "      <td>0.0</td>\n",
       "      <td>0.0</td>\n",
       "      <td>0.0</td>\n",
       "      <td>0.0</td>\n",
       "    </tr>\n",
       "  </tbody>\n",
       "</table>\n",
       "<p>5 rows × 48 columns</p>\n",
       "</div>"
      ],
      "text/plain": [
       "    listing_id  host_since  host_response_time host_is_superhost  \\\n",
       "0       241032  2011-08-11  within a few hours                 f   \n",
       "1       241032  2011-08-11  within a few hours                 f   \n",
       "9       241032  2011-08-11  within a few hours                 f   \n",
       "10      241032  2011-08-11  within a few hours                 f   \n",
       "14      241032  2011-08-11  within a few hours                 f   \n",
       "\n",
       "    host_listings_count host_has_profile_pic host_identity_verified  \\\n",
       "0                   3.0                    t                      t   \n",
       "1                   3.0                    t                      t   \n",
       "9                   3.0                    t                      t   \n",
       "10                  3.0                    t                      t   \n",
       "14                  3.0                    t                      t   \n",
       "\n",
       "   neighbourhood_group_cleansed property_type        room_type  ...  \\\n",
       "0                    Queen Anne     Apartment  Entire home/apt  ...   \n",
       "1                    Queen Anne     Apartment  Entire home/apt  ...   \n",
       "9                    Queen Anne     Apartment  Entire home/apt  ...   \n",
       "10                   Queen Anne     Apartment  Entire home/apt  ...   \n",
       "14                   Queen Anne     Apartment  Entire home/apt  ...   \n",
       "\n",
       "    host_verifications_email  host_verifications_ phone  \\\n",
       "0                        1.0                        1.0   \n",
       "1                        1.0                        1.0   \n",
       "9                        1.0                        1.0   \n",
       "10                       1.0                        1.0   \n",
       "14                       1.0                        1.0   \n",
       "\n",
       "    host_verifications_ reviews  host_verifications_ facebook  \\\n",
       "0                           1.0                           0.0   \n",
       "1                           1.0                           0.0   \n",
       "9                           1.0                           0.0   \n",
       "10                          1.0                           0.0   \n",
       "14                          1.0                           0.0   \n",
       "\n",
       "   host_verifications_ jumio host_verifications_ kba  \\\n",
       "0                        0.0                     1.0   \n",
       "1                        0.0                     1.0   \n",
       "9                        0.0                     1.0   \n",
       "10                       0.0                     1.0   \n",
       "14                       0.0                     1.0   \n",
       "\n",
       "    host_verifications_ linkedin host_verifications_ google  \\\n",
       "0                            0.0                        0.0   \n",
       "1                            0.0                        0.0   \n",
       "9                            0.0                        0.0   \n",
       "10                           0.0                        0.0   \n",
       "14                           0.0                        0.0   \n",
       "\n",
       "    host_verifications_ manual_offline  host_verifications_phone  \n",
       "0                                  0.0                       0.0  \n",
       "1                                  0.0                       0.0  \n",
       "9                                  0.0                       0.0  \n",
       "10                                 0.0                       0.0  \n",
       "14                                 0.0                       0.0  \n",
       "\n",
       "[5 rows x 48 columns]"
      ]
     },
     "execution_count": 24,
     "metadata": {},
     "output_type": "execute_result"
    }
   ],
   "source": [
    "df.head()\n"
   ]
  },
  {
   "cell_type": "markdown",
   "id": "d5862417",
   "metadata": {},
   "source": [
    "**Replaace categorical variables with the mode of the column**\n",
    "Since the bathrooms and bed/bedrooms data is categorical and can impact the price we are filling the missing values with the mode of the column"
   ]
  },
  {
   "cell_type": "code",
   "execution_count": 23,
   "id": "5f1683cd",
   "metadata": {},
   "outputs": [],
   "source": [
    " #fill in missing values for bathrooms, bedrooms and beds with mode\n",
    "df['bathrooms'] = df['bathrooms'].fillna(df['bathrooms'].mode()[0])\n",
    "df['bedrooms'] = df['bedrooms'].fillna(df['bedrooms'].mode()[0])\n",
    "df['beds'] = df['beds'].fillna(df['beds'].mode()[0])"
   ]
  },
  {
   "cell_type": "code",
   "execution_count": 27,
   "id": "7662cf5a",
   "metadata": {},
   "outputs": [],
   "source": [
    "#turn extra people fee into binary column (1 - if fee for extra people is charged, 0 - otherwise)\n",
    "if 'extra_people_fee' in df.columns:\n",
    "    # Convert 'extra_people_fee' column to binary\n",
    "    df['extra_people_fee'] = df['extra_people_fee'].apply(lambda x: 1 if x > 0 else 0)\n",
    "df = df.drop(columns = ['extra_people'])"
   ]
  },
  {
   "cell_type": "code",
   "execution_count": 28,
   "id": "5abb52a9",
   "metadata": {},
   "outputs": [
    {
     "ename": "KeyError",
     "evalue": "'amenities'",
     "output_type": "error",
     "traceback": [
      "\u001b[0;31m---------------------------------------------------------------------------\u001b[0m",
      "\u001b[0;31mKeyError\u001b[0m                                  Traceback (most recent call last)",
      "File \u001b[0;32m/var/data/python/lib/python3.11/site-packages/pandas/core/indexes/base.py:3805\u001b[0m, in \u001b[0;36mIndex.get_loc\u001b[0;34m(self, key)\u001b[0m\n\u001b[1;32m   3804\u001b[0m \u001b[38;5;28;01mtry\u001b[39;00m:\n\u001b[0;32m-> 3805\u001b[0m     \u001b[38;5;28;01mreturn\u001b[39;00m \u001b[38;5;28;43mself\u001b[39;49m\u001b[38;5;241;43m.\u001b[39;49m\u001b[43m_engine\u001b[49m\u001b[38;5;241;43m.\u001b[39;49m\u001b[43mget_loc\u001b[49m\u001b[43m(\u001b[49m\u001b[43mcasted_key\u001b[49m\u001b[43m)\u001b[49m\n\u001b[1;32m   3806\u001b[0m \u001b[38;5;28;01mexcept\u001b[39;00m \u001b[38;5;167;01mKeyError\u001b[39;00m \u001b[38;5;28;01mas\u001b[39;00m err:\n",
      "File \u001b[0;32mindex.pyx:167\u001b[0m, in \u001b[0;36mpandas._libs.index.IndexEngine.get_loc\u001b[0;34m()\u001b[0m\n",
      "File \u001b[0;32mindex.pyx:196\u001b[0m, in \u001b[0;36mpandas._libs.index.IndexEngine.get_loc\u001b[0;34m()\u001b[0m\n",
      "File \u001b[0;32mpandas/_libs/hashtable_class_helper.pxi:7081\u001b[0m, in \u001b[0;36mpandas._libs.hashtable.PyObjectHashTable.get_item\u001b[0;34m()\u001b[0m\n",
      "File \u001b[0;32mpandas/_libs/hashtable_class_helper.pxi:7089\u001b[0m, in \u001b[0;36mpandas._libs.hashtable.PyObjectHashTable.get_item\u001b[0;34m()\u001b[0m\n",
      "\u001b[0;31mKeyError\u001b[0m: 'amenities'",
      "\nThe above exception was the direct cause of the following exception:\n",
      "\u001b[0;31mKeyError\u001b[0m                                  Traceback (most recent call last)",
      "Cell \u001b[0;32mIn[28], line 4\u001b[0m\n\u001b[1;32m      1\u001b[0m \u001b[38;5;66;03m#df.describe()\u001b[39;00m\n\u001b[1;32m      2\u001b[0m \n\u001b[1;32m      3\u001b[0m \u001b[38;5;66;03m#split amenities into dummy columns and drop the original column\u001b[39;00m\n\u001b[0;32m----> 4\u001b[0m \u001b[43msplit_list_into_columns\u001b[49m\u001b[43m(\u001b[49m\u001b[43mdf\u001b[49m\u001b[43m,\u001b[49m\u001b[43m \u001b[49m\u001b[38;5;124;43m'\u001b[39;49m\u001b[38;5;124;43mamenities\u001b[39;49m\u001b[38;5;124;43m'\u001b[39;49m\u001b[43m)\u001b[49m\n\u001b[1;32m      5\u001b[0m df \u001b[38;5;241m=\u001b[39m df\u001b[38;5;241m.\u001b[39mdrop(columns \u001b[38;5;241m=\u001b[39m [\u001b[38;5;124m'\u001b[39m\u001b[38;5;124mamenities\u001b[39m\u001b[38;5;124m'\u001b[39m])\n",
      "Cell \u001b[0;32mIn[16], line 32\u001b[0m, in \u001b[0;36msplit_list_into_columns\u001b[0;34m(df, column_name, max_dummies_num)\u001b[0m\n\u001b[1;32m     29\u001b[0m \u001b[38;5;66;03m# get dictionary of unique values in lists across dataset rows\u001b[39;00m\n\u001b[1;32m     30\u001b[0m values_dict \u001b[38;5;241m=\u001b[39m {}\n\u001b[0;32m---> 32\u001b[0m \u001b[38;5;28;01mfor\u001b[39;00m unique_value \u001b[38;5;129;01min\u001b[39;00m \u001b[43mdf\u001b[49m\u001b[43m[\u001b[49m\u001b[43mcolumn_name\u001b[49m\u001b[43m]\u001b[49m\u001b[38;5;241m.\u001b[39munique(): \n\u001b[1;32m     33\u001b[0m     \u001b[38;5;28;01mfor\u001b[39;00m value \u001b[38;5;129;01min\u001b[39;00m unique_value\u001b[38;5;241m.\u001b[39mreplace(\u001b[38;5;124m'\u001b[39m\u001b[38;5;124m[\u001b[39m\u001b[38;5;124m'\u001b[39m, \u001b[38;5;124m'\u001b[39m\u001b[38;5;124m'\u001b[39m)\u001b[38;5;241m.\u001b[39mreplace(\u001b[38;5;124m\"\u001b[39m\u001b[38;5;124m'\u001b[39m\u001b[38;5;124m\"\u001b[39m, \u001b[38;5;124m'\u001b[39m\u001b[38;5;124m'\u001b[39m)\u001b[38;5;241m.\u001b[39mreplace(\u001b[38;5;124m\"\u001b[39m\u001b[38;5;124m]\u001b[39m\u001b[38;5;124m\"\u001b[39m, \u001b[38;5;124m'\u001b[39m\u001b[38;5;124m'\u001b[39m)\u001b[38;5;241m.\u001b[39mreplace(\u001b[38;5;124m'\u001b[39m\u001b[38;5;124m\"\u001b[39m\u001b[38;5;124m'\u001b[39m, \u001b[38;5;124m'\u001b[39m\u001b[38;5;124m'\u001b[39m)\u001b[38;5;241m.\u001b[39mreplace(\u001b[38;5;124m'\u001b[39m\u001b[38;5;124m{\u001b[39m\u001b[38;5;124m'\u001b[39m, \u001b[38;5;124m'\u001b[39m\u001b[38;5;124m'\u001b[39m)\u001b[38;5;241m.\u001b[39mreplace(\u001b[38;5;124m'\u001b[39m\u001b[38;5;124m}\u001b[39m\u001b[38;5;124m'\u001b[39m, \u001b[38;5;124m'\u001b[39m\u001b[38;5;124m'\u001b[39m)\u001b[38;5;241m.\u001b[39msplit(\u001b[38;5;124m'\u001b[39m\u001b[38;5;124m,\u001b[39m\u001b[38;5;124m'\u001b[39m):\n\u001b[1;32m     34\u001b[0m         \u001b[38;5;28;01mif\u001b[39;00m value \u001b[38;5;129;01min\u001b[39;00m values_dict:\n",
      "File \u001b[0;32m/var/data/python/lib/python3.11/site-packages/pandas/core/frame.py:4102\u001b[0m, in \u001b[0;36mDataFrame.__getitem__\u001b[0;34m(self, key)\u001b[0m\n\u001b[1;32m   4100\u001b[0m \u001b[38;5;28;01mif\u001b[39;00m \u001b[38;5;28mself\u001b[39m\u001b[38;5;241m.\u001b[39mcolumns\u001b[38;5;241m.\u001b[39mnlevels \u001b[38;5;241m>\u001b[39m \u001b[38;5;241m1\u001b[39m:\n\u001b[1;32m   4101\u001b[0m     \u001b[38;5;28;01mreturn\u001b[39;00m \u001b[38;5;28mself\u001b[39m\u001b[38;5;241m.\u001b[39m_getitem_multilevel(key)\n\u001b[0;32m-> 4102\u001b[0m indexer \u001b[38;5;241m=\u001b[39m \u001b[38;5;28;43mself\u001b[39;49m\u001b[38;5;241;43m.\u001b[39;49m\u001b[43mcolumns\u001b[49m\u001b[38;5;241;43m.\u001b[39;49m\u001b[43mget_loc\u001b[49m\u001b[43m(\u001b[49m\u001b[43mkey\u001b[49m\u001b[43m)\u001b[49m\n\u001b[1;32m   4103\u001b[0m \u001b[38;5;28;01mif\u001b[39;00m is_integer(indexer):\n\u001b[1;32m   4104\u001b[0m     indexer \u001b[38;5;241m=\u001b[39m [indexer]\n",
      "File \u001b[0;32m/var/data/python/lib/python3.11/site-packages/pandas/core/indexes/base.py:3812\u001b[0m, in \u001b[0;36mIndex.get_loc\u001b[0;34m(self, key)\u001b[0m\n\u001b[1;32m   3807\u001b[0m     \u001b[38;5;28;01mif\u001b[39;00m \u001b[38;5;28misinstance\u001b[39m(casted_key, \u001b[38;5;28mslice\u001b[39m) \u001b[38;5;129;01mor\u001b[39;00m (\n\u001b[1;32m   3808\u001b[0m         \u001b[38;5;28misinstance\u001b[39m(casted_key, abc\u001b[38;5;241m.\u001b[39mIterable)\n\u001b[1;32m   3809\u001b[0m         \u001b[38;5;129;01mand\u001b[39;00m \u001b[38;5;28many\u001b[39m(\u001b[38;5;28misinstance\u001b[39m(x, \u001b[38;5;28mslice\u001b[39m) \u001b[38;5;28;01mfor\u001b[39;00m x \u001b[38;5;129;01min\u001b[39;00m casted_key)\n\u001b[1;32m   3810\u001b[0m     ):\n\u001b[1;32m   3811\u001b[0m         \u001b[38;5;28;01mraise\u001b[39;00m InvalidIndexError(key)\n\u001b[0;32m-> 3812\u001b[0m     \u001b[38;5;28;01mraise\u001b[39;00m \u001b[38;5;167;01mKeyError\u001b[39;00m(key) \u001b[38;5;28;01mfrom\u001b[39;00m \u001b[38;5;21;01merr\u001b[39;00m\n\u001b[1;32m   3813\u001b[0m \u001b[38;5;28;01mexcept\u001b[39;00m \u001b[38;5;167;01mTypeError\u001b[39;00m:\n\u001b[1;32m   3814\u001b[0m     \u001b[38;5;66;03m# If we have a listlike key, _check_indexing_error will raise\u001b[39;00m\n\u001b[1;32m   3815\u001b[0m     \u001b[38;5;66;03m#  InvalidIndexError. Otherwise we fall through and re-raise\u001b[39;00m\n\u001b[1;32m   3816\u001b[0m     \u001b[38;5;66;03m#  the TypeError.\u001b[39;00m\n\u001b[1;32m   3817\u001b[0m     \u001b[38;5;28mself\u001b[39m\u001b[38;5;241m.\u001b[39m_check_indexing_error(key)\n",
      "\u001b[0;31mKeyError\u001b[0m: 'amenities'"
     ]
    }
   ],
   "source": [
    "#df.describe()\n",
    "\n",
    "#split amenities into dummy columns and drop the original column\n",
    "split_list_into_columns(df, 'amenities')\n",
    "df = df.drop(columns = ['amenities'])\n",
    "\n",
    "\n",
    "\n"
   ]
  },
  {
   "cell_type": "code",
   "execution_count": 30,
   "id": "cf8d1be2",
   "metadata": {},
   "outputs": [],
   "source": [
    "#fill missing values for review scores columns\n",
    "review_scores_columns = ['review_scores_rating', 'review_scores_accuracy', 'review_scores_cleanliness',\n",
    "                        'review_scores_checkin', 'review_scores_communication', 'review_scores_location',\n",
    "                    'review_scores_value']\n",
    "for column in review_scores_columns:\n",
    "    df[column] = df[column].fillna(df[column].mean())"
   ]
  },
  {
   "cell_type": "code",
   "execution_count": null,
   "id": "86da0d23",
   "metadata": {},
   "outputs": [],
   "source": [
    "if 'extra_people_fee' in df.columns:\n",
    "    # Convert 'extra_people_fee' column to binary\n",
    "    df['extra_people_fee'] = df['extra_people_fee'].apply(lambda x: 1 if x > 0 else 0)"
   ]
  },
  {
   "cell_type": "markdown",
   "id": "ddfdb974",
   "metadata": {},
   "source": [
    "**High Level Analysis**\n",
    "\n",
    "Once the data sets are clean , we can take  a look at the basic statistics like central tendency and deviations. Let's start with the pricing data"
   ]
  },
  {
   "cell_type": "code",
   "execution_count": 31,
   "id": "7cd54ae9",
   "metadata": {},
   "outputs": [
    {
     "name": "stdout",
     "output_type": "stream",
     "text": [
      "Minimum price per listing is 10.0$.\n",
      "Maximum price per listing is 1650.0$\n",
      "Average price per listing is 137.94485855103355$.\n"
     ]
    }
   ],
   "source": [
    "#find minimum, maximum and average price for listing\n",
    "min_price = df['price'].min()\n",
    "max_price = df['price'].max()\n",
    "mean_price = df['price'].mean()\n",
    "\n",
    "print(f'Minimum price per listing is ${min_price}.')\n",
    "print(f'Maximum price per listing is ${max_price}' )\n",
    "print(f'Average price per listing is ${mean_price}.')"
   ]
  }
 ],
 "metadata": {
  "kaggle": {
   "accelerator": "none",
   "dataSources": [
    {
     "datasetId": 393,
     "sourceId": 43835,
     "sourceType": "datasetVersion"
    },
    {
     "datasetId": 4801429,
     "sourceId": 8124817,
     "sourceType": "datasetVersion"
    }
   ],
   "dockerImageVersionId": 30684,
   "isGpuEnabled": false,
   "isInternetEnabled": false,
   "language": "python",
   "sourceType": "notebook"
  },
  "kernelspec": {
   "display_name": "Python 3",
   "language": "python",
   "name": "python3"
  },
  "language_info": {
   "codemirror_mode": {
    "name": "ipython",
    "version": 3
   },
   "file_extension": ".py",
   "mimetype": "text/x-python",
   "name": "python",
   "nbconvert_exporter": "python",
   "pygments_lexer": "ipython3",
   "version": "3.11.9"
  },
  "papermill": {
   "default_parameters": {},
   "duration": 21.241487,
   "end_time": "2024-04-15T11:54:33.835519",
   "environment_variables": {},
   "exception": null,
   "input_path": "__notebook__.ipynb",
   "output_path": "__notebook__.ipynb",
   "parameters": {},
   "start_time": "2024-04-15T11:54:12.594032",
   "version": "2.5.0"
  }
 },
 "nbformat": 4,
 "nbformat_minor": 5
}
