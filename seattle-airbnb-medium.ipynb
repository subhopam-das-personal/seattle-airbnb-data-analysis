{
 "cells": [
  {
   "cell_type": "markdown",
   "metadata": {},
   "source": [
    "### Business Understanding\n",
    "\n",
    "**Question 1: How does the location of an Airbnb listing impact its price?**\n",
    "\n",
    "**Question 2: When are listings most frequently booked?**\n",
    "\n",
    "**Question 3: Are there seasonal trends or specific events that drive demand?**"
   ]
  },
  {
   "cell_type": "code",
   "execution_count": null,
   "metadata": {},
   "outputs": [],
   "source": [
    "import numpy as np\n",
    "import pandas as pd\n",
    "import matplotlib.pyplot as plt\n",
    "import seaborn as sns\n",
    "from sklearn.impute import SimpleImputer\n",
    "import warnings\n",
    "warnings.filterwarnings('ignore')"
   ]
  },
  {
   "cell_type": "markdown",
   "metadata": {},
   "source": [
    "### Gather Data"
   ]
  },
  {
   "cell_type": "code",
   "execution_count": null,
   "metadata": {},
   "outputs": [],
   "source": [
    "listings_df = pd.read_csv(\"listings.csv\")\n",
    "calendar_df = pd.read_csv(\"calendar.csv\")\n",
    "reviews_df = pd.read_csv(\"reviews.csv\")\n"
   ]
  },
  {
   "cell_type": "markdown",
   "metadata": {},
   "source": [
    "### Understanding the Data"
   ]
  },
  {
   "cell_type": "code",
   "execution_count": null,
   "metadata": {},
   "outputs": [],
   "source": [
    "# Print the first 5 rows\n",
    "listings_df.head()"
   ]
  },
  {
   "cell_type": "code",
   "execution_count": null,
   "metadata": {},
   "outputs": [],
   "source": [
    "# Print The Dataset shape\n",
    "listings_df.shape"
   ]
  },
  {
   "cell_type": "code",
   "execution_count": null,
   "metadata": {},
   "outputs": [],
   "source": [
    "listings_df.describe()"
   ]
  },
  {
   "cell_type": "code",
   "execution_count": null,
   "metadata": {},
   "outputs": [],
   "source": [
    "listings_df.info()"
   ]
  },
  {
   "cell_type": "markdown",
   "metadata": {},
   "source": [
    "### Missing Value Analysis"
   ]
  },
  {
   "cell_type": "code",
   "execution_count": null,
   "metadata": {},
   "outputs": [],
   "source": [
    "# Analyze missing values for each column and plot in a graph\n",
    "\n",
    "#find percentage of missing values for each column\n",
    "listings_missing_df = listings_df.isnull().mean()*100\n",
    "\n",
    "#filter out only columns, which have missing values\n",
    "listings_columns_with_nan = listings_missing_df[listings_missing_df > 0]\n",
    "\n",
    "#plot the results\n",
    "listings_columns_with_nan.plot.bar(title='Missing values per column, %')"
   ]
  },
  {
   "cell_type": "markdown",
   "metadata": {},
   "source": [
    "### Clean Data\n"
   ]
  },
  {
   "cell_type": "code",
   "execution_count": null,
   "metadata": {},
   "outputs": [],
   "source": [
    "# Identify duplicate columns\n",
    "duplicate_columns = listings_df.columns[listings_df.columns.duplicated()]\n",
    "\n",
    "# Drop duplicate columns\n",
    "listings_df = listings_df.drop(columns=duplicate_columns)"
   ]
  },
  {
   "cell_type": "code",
   "execution_count": null,
   "metadata": {},
   "outputs": [],
   "source": [
    "# Drop columns with full NA\n",
    "listings_df.dropna(axis=1, how='all', inplace=True)"
   ]
  },
  {
   "cell_type": "code",
   "execution_count": null,
   "metadata": {},
   "outputs": [],
   "source": [
    "# Drop columns with only one unique value\n",
    "listings_df.drop([c for c in listings_df.columns if listings_df[c].nunique()==1], axis=1, inplace=True)"
   ]
  },
  {
   "cell_type": "code",
   "execution_count": null,
   "metadata": {},
   "outputs": [],
   "source": [
    "# Drop columns representing url\n",
    "listings_df.drop(listings_df.columns[listings_df.columns.str.contains(\"url\")], axis=1, inplace=True)"
   ]
  },
  {
   "cell_type": "code",
   "execution_count": null,
   "metadata": {},
   "outputs": [],
   "source": [
    "def convert_price_to_float(df, column_name):\n",
    "    \"\"\"\n",
    "    Converts the price column in the given DataFrame to float.\n",
    "\n",
    "    Parameters:\n",
    "    df (pandas.DataFrame): The DataFrame containing the price column.\n",
    "    column_name (str): The name of the price column.\n",
    "\n",
    "    Returns:\n",
    "    pandas.DataFrame: The DataFrame with the price column converted to float.\n",
    "    \"\"\"\n",
    "    df[column_name] = df[column_name].str.replace(r\"$\", \"\").str.replace(\",\", \"\").astype(\"float32\")\n",
    "    return df\n",
    "\n",
    "# Call the function for each column\n",
    "listings_df = convert_price_to_float(listings_df, 'price')\n",
    "listings_df = convert_price_to_float(listings_df, 'weekly_price')\n",
    "listings_df = convert_price_to_float(listings_df, 'monthly_price')\n",
    "listings_df = convert_price_to_float(listings_df, 'security_deposit')\n",
    "listings_df = convert_price_to_float(listings_df, 'cleaning_fee')\n",
    "listings_df = convert_price_to_float(listings_df, 'extra_people')"
   ]
  },
  {
   "cell_type": "code",
   "execution_count": null,
   "metadata": {},
   "outputs": [],
   "source": [
    "# Dropping specified columns with high missing values\n",
    "columns_to_drop = [\n",
    "    'square_feet', 'summary', 'space', 'neighborhood_overview', 'notes', 'transit','license'\n",
    "]\n",
    "\n",
    "# Dropping host-related information (selecting by pattern)\n",
    "host_related_columns = listings_df.columns[listings_df.columns.str.contains('^host_')]\n",
    "columns_to_drop.extend(host_related_columns)\n",
    "\n",
    "# Dropping the columns\n",
    "listings_df.drop(columns=columns_to_drop, inplace=True)"
   ]
  },
  {
   "cell_type": "code",
   "execution_count": null,
   "metadata": {},
   "outputs": [],
   "source": [
    "# Listing the numerical and categorical columns\n",
    "numerical_columns = listings_df.select_dtypes(exclude=object).columns.tolist()\n",
    "categorical_columns = listings_df.select_dtypes(include=object).columns.tolist()"
   ]
  },
  {
   "cell_type": "code",
   "execution_count": null,
   "metadata": {},
   "outputs": [],
   "source": [
    "# Dealing With Null Values\n",
    "# Numeric columns: Use median imputation\n",
    "numeric_imputer = SimpleImputer(strategy='median')\n",
    "listings_df[numerical_columns] = numeric_imputer.fit_transform(listings_df[numerical_columns])\n",
    "\n",
    "# Categorical columns with mode imputation\n",
    "categorical_imputer = SimpleImputer(strategy='most_frequent')\n",
    "listings_df[categorical_columns] = categorical_imputer.fit_transform(listings_df[categorical_columns])"
   ]
  },
  {
   "cell_type": "markdown",
   "metadata": {},
   "source": [
    "### Analyze Data"
   ]
  },
  {
   "cell_type": "markdown",
   "metadata": {},
   "source": [
    "**Basic Statistics**"
   ]
  },
  {
   "cell_type": "code",
   "execution_count": null,
   "metadata": {},
   "outputs": [],
   "source": [
    "\n",
    "# Summary statistics for price\n",
    "listings_df['price'].describe()"
   ]
  },
  {
   "cell_type": "code",
   "execution_count": null,
   "metadata": {},
   "outputs": [],
   "source": [
    "# Average number of bedrooms\n",
    "listings_df['bedrooms'].mean()"
   ]
  },
  {
   "cell_type": "code",
   "execution_count": null,
   "metadata": {},
   "outputs": [],
   "source": [
    "quantiles = listings_df['price'].quantile([0.25, 0.5, 0.75])\n",
    "print(quantiles)"
   ]
  },
  {
   "cell_type": "code",
   "execution_count": null,
   "metadata": {},
   "outputs": [],
   "source": [
    "# Average number of bathrooms\n",
    "listings_df['bathrooms'].mean()"
   ]
  },
  {
   "cell_type": "code",
   "execution_count": null,
   "metadata": {},
   "outputs": [],
   "source": [
    "# Average review scores rating\n",
    "listings_df['review_scores_rating'].mean()"
   ]
  },
  {
   "cell_type": "code",
   "execution_count": null,
   "metadata": {},
   "outputs": [],
   "source": [
    "# Estimating occupancy rates\n",
    "average_annual_availability = listings_df['availability_365'].mean()\n",
    "estimated_annual_occupancy_rate = 100 - (average_annual_availability / 365 * 100)\n",
    "estimated_annual_occupancy_rate"
   ]
  },
  {
   "cell_type": "code",
   "execution_count": null,
   "metadata": {},
   "outputs": [],
   "source": [
    "# Distribution of Property Types\n",
    "sns.set_style(\"darkgrid\")  # Set the aesthetic style of the plots\n",
    "\n",
    "# Calculate teh distribution of the property types\n",
    "property_type_counts = listings_df['property_type'].value_counts()\n",
    "\n",
    "# Create a bar chart for the distribution of propery types\n",
    "plt.figure(figsize=(10, 8))\n",
    "sns.barplot(x=property_type_counts.values, y=property_type_counts.index, palette=\"colorblind\")\n",
    "plt.title(\"Distribution of Property Types\")\n",
    "plt.xlabel(\"Number of Listings\")\n",
    "plt.ylabel(\"Propery Type\")\n",
    "plt.show()"
   ]
  },
  {
   "cell_type": "code",
   "execution_count": null,
   "metadata": {},
   "outputs": [],
   "source": [
    "# Distribution of Neighborhoods\n",
    "neighborhood_counts = listings_df['neighbourhood_group_cleansed'].value_counts().head(10) # Calculate the distribution of listings by neighborhood\n",
    "\n",
    "# Create a bar chart for the top neighborhoods with the most listings\n",
    "plt.figure(figsize=(10, 8))\n",
    "sns.barplot(x=neighborhood_counts.values, y=neighborhood_counts.index, palette=\"coolwarm\")\n",
    "plt.title('Top 10 Neighborhoods by Number of Listings')\n",
    "plt.xlabel('Number of Listings')\n",
    "plt.ylabel('Neighborhood')\n",
    "plt.show()"
   ]
  },
  {
   "cell_type": "code",
   "execution_count": null,
   "metadata": {},
   "outputs": [],
   "source": [
    "# Price Distribution\n",
    "plt.figure(figsize=(12, 6))\n",
    "sns.histplot(listings_df['price'], bins=50, kde=True, color=\"skyblue\")\n",
    "plt.title('Distribution of Listing Prices')\n",
    "plt.xlabel('Price ($)')\n",
    "plt.ylabel('Number of Listings')\n",
    "plt.xlim(0, listings_df['price'].quantile(0.95))  # Limiting x-axis to 95th percentile for better visualization\n",
    "plt.show()"
   ]
  },
  {
   "cell_type": "code",
   "execution_count": null,
   "metadata": {},
   "outputs": [],
   "source": [
    "# Room Type Preferences\n",
    "plt.figure(figsize=(10, 6))\n",
    "sns.countplot(data=listings_df, y='room_type', order=listings_df['room_type'].value_counts().index)\n",
    "plt.title('Room Type Preferences')\n",
    "plt.xlabel('Number of Listings')\n",
    "plt.ylabel('Room Type')\n",
    "plt.show()"
   ]
  },
  {
   "cell_type": "code",
   "execution_count": null,
   "metadata": {},
   "outputs": [],
   "source": [
    "# Number of Listings by Neighborhood\n",
    "plt.figure(figsize=(10, 8))\n",
    "sns.countplot(data=listings_df, y='neighbourhood_group_cleansed', order=listings_df['neighbourhood_group_cleansed'].value_counts().index,palette='viridis')\n",
    "plt.title('Number of Listings by Neighborhood')\n",
    "plt.xlabel('Number of Listings')\n",
    "plt.ylabel('Neighborhood')\n",
    "plt.show()"
   ]
  },
  {
   "cell_type": "code",
   "execution_count": null,
   "metadata": {},
   "outputs": [],
   "source": [
    "# Price by Room Type\n",
    "plt.figure(figsize=(12, 6))\n",
    "sns.boxplot(x='room_type', y='price', data=listings_df)\n",
    "plt.title('Price Distribution by Room Type')\n",
    "plt.xlabel('Room Type')\n",
    "plt.ylabel('Price ($)')\n",
    "plt.ylim(0, listings_df['price'].quantile(0.95))  # Limiting y-axis to 95th percentile for better visualization\n",
    "plt.show()\n",
    "\n",
    "\n"
   ]
  },
  {
   "cell_type": "code",
   "execution_count": null,
   "metadata": {},
   "outputs": [],
   "source": [
    "# Availability by Neighborhood\n",
    "plt.figure(figsize=(12, 8))\n",
    "sns.boxenplot(y='neighbourhood_group_cleansed', x='availability_365', data=listings_df,palette='viridis')\n",
    "plt.title('Availability by Neighborhood')\n",
    "plt.xlabel('Availability (Days out of 365)')\n",
    "plt.ylabel('Neighborhood')\n",
    "plt.show()"
   ]
  },
  {
   "cell_type": "code",
   "execution_count": null,
   "metadata": {},
   "outputs": [],
   "source": [
    "# Review Scores Rating Distribution\n",
    "plt.figure(figsize=(12, 6))\n",
    "sns.histplot(listings_df['review_scores_rating'], bins=20, kde=True, color='green')\n",
    "plt.title('Distribution of Review Scores Rating')\n",
    "plt.xlabel('Review Scores Rating')\n",
    "plt.ylabel('Number of Listings')\n",
    "plt.xlim(0, 100)  # Review scores are typically on a scale from 0 to 100\n",
    "plt.show()"
   ]
  },
  {
   "cell_type": "markdown",
   "metadata": {},
   "source": [
    "**Correlatioon Analysis**"
   ]
  },
  {
   "cell_type": "code",
   "execution_count": null,
   "metadata": {},
   "outputs": [],
   "source": [
    "# Select relevant numerical columns for correlation analysis\n",
    "numerical_columns = [\n",
    "    'price', 'bedrooms', 'bathrooms', 'accommodates',\n",
    "    'minimum_nights', 'maximum_nights', 'number_of_reviews',\n",
    "    'review_scores_rating', 'availability_365'\n",
    "]\n",
    "# but all of these features are in the object type, so we need to convert them\n",
    "for col in numerical_columns:\n",
    "    listings_df[col] = pd.to_numeric(listings_df[col], errors='coerce')\n",
    "\n",
    "# Calculate the correlation matrix\n",
    "corr_matrix = listings_df[numerical_columns].corr()\n",
    "\n",
    "# Plot the heatmap\n",
    "plt.figure(figsize=(12, 10))\n",
    "sns.heatmap(corr_matrix, annot=True, cmap='coolwarm', fmt=\".2f\")\n",
    "plt.title('Correlation Matrix of Selected Features')\n",
    "plt.show()"
   ]
  }
 ],
 "metadata": {
  "kernelspec": {
   "display_name": "base",
   "language": "python",
   "name": "python3"
  },
  "language_info": {
   "codemirror_mode": {
    "name": "ipython",
    "version": 3
   },
   "file_extension": ".py",
   "mimetype": "text/x-python",
   "name": "python",
   "nbconvert_exporter": "python",
   "pygments_lexer": "ipython3",
   "version": "3.11.7"
  }
 },
 "nbformat": 4,
 "nbformat_minor": 2
}
